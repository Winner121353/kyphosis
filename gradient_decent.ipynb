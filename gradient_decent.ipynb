{
  "nbformat": 4,
  "nbformat_minor": 0,
  "metadata": {
    "kernelspec": {
      "display_name": "Python 3",
      "language": "python",
      "name": "python3"
    },
    "language_info": {
      "codemirror_mode": {
        "name": "ipython",
        "version": 3
      },
      "file_extension": ".py",
      "mimetype": "text/x-python",
      "name": "python",
      "nbconvert_exporter": "python",
      "pygments_lexer": "ipython3",
      "version": "3.7.3"
    },
    "colab": {
      "name": "gradient_decent.ipynb",
      "provenance": [],
      "collapsed_sections": [],
      "include_colab_link": true
    }
  },
  "cells": [
    {
      "cell_type": "markdown",
      "metadata": {
        "id": "view-in-github",
        "colab_type": "text"
      },
      "source": [
        "<a href=\"https://colab.research.google.com/github/Winner121353/kyphosis/blob/master/gradient_decent.ipynb\" target=\"_parent\"><img src=\"https://colab.research.google.com/assets/colab-badge.svg\" alt=\"Open In Colab\"/></a>"
      ]
    },
    {
      "cell_type": "code",
      "metadata": {
        "id": "ppI7cwtsPZzA",
        "colab_type": "code",
        "colab": {}
      },
      "source": [
        "import pandas as pd\n",
        "import numpy as np\n",
        "import matplotlib.pyplot as plt\n",
        "from sklearn.model_selection import train_test_split"
      ],
      "execution_count": 0,
      "outputs": []
    },
    {
      "cell_type": "code",
      "metadata": {
        "id": "Ryy6XfkaPZzM",
        "colab_type": "code",
        "colab": {}
      },
      "source": [
        "data = pd.read_csv('Startup')"
      ],
      "execution_count": 0,
      "outputs": []
    },
    {
      "cell_type": "code",
      "metadata": {
        "scrolled": true,
        "id": "jnOL79G6PZzX",
        "colab_type": "code",
        "outputId": "b4d4f172-7c3a-44cc-fdc1-eebdab197efd",
        "colab": {}
      },
      "source": [
        "data.head()"
      ],
      "execution_count": 0,
      "outputs": [
        {
          "output_type": "execute_result",
          "data": {
            "text/html": [
              "<div>\n",
              "<style scoped>\n",
              "    .dataframe tbody tr th:only-of-type {\n",
              "        vertical-align: middle;\n",
              "    }\n",
              "\n",
              "    .dataframe tbody tr th {\n",
              "        vertical-align: top;\n",
              "    }\n",
              "\n",
              "    .dataframe thead th {\n",
              "        text-align: right;\n",
              "    }\n",
              "</style>\n",
              "<table border=\"1\" class=\"dataframe\">\n",
              "  <thead>\n",
              "    <tr style=\"text-align: right;\">\n",
              "      <th></th>\n",
              "      <th>R&amp;D Spend</th>\n",
              "      <th>Administration</th>\n",
              "      <th>Marketing Spend</th>\n",
              "      <th>State</th>\n",
              "      <th>Profit</th>\n",
              "    </tr>\n",
              "  </thead>\n",
              "  <tbody>\n",
              "    <tr>\n",
              "      <th>0</th>\n",
              "      <td>165349.20</td>\n",
              "      <td>136897.80</td>\n",
              "      <td>471784.10</td>\n",
              "      <td>New York</td>\n",
              "      <td>192261.83</td>\n",
              "    </tr>\n",
              "    <tr>\n",
              "      <th>1</th>\n",
              "      <td>162597.70</td>\n",
              "      <td>151377.59</td>\n",
              "      <td>443898.53</td>\n",
              "      <td>California</td>\n",
              "      <td>191792.06</td>\n",
              "    </tr>\n",
              "    <tr>\n",
              "      <th>2</th>\n",
              "      <td>153441.51</td>\n",
              "      <td>101145.55</td>\n",
              "      <td>407934.54</td>\n",
              "      <td>Florida</td>\n",
              "      <td>191050.39</td>\n",
              "    </tr>\n",
              "    <tr>\n",
              "      <th>3</th>\n",
              "      <td>144372.41</td>\n",
              "      <td>118671.85</td>\n",
              "      <td>383199.62</td>\n",
              "      <td>New York</td>\n",
              "      <td>182901.99</td>\n",
              "    </tr>\n",
              "    <tr>\n",
              "      <th>4</th>\n",
              "      <td>142107.34</td>\n",
              "      <td>91391.77</td>\n",
              "      <td>366168.42</td>\n",
              "      <td>Florida</td>\n",
              "      <td>166187.94</td>\n",
              "    </tr>\n",
              "  </tbody>\n",
              "</table>\n",
              "</div>"
            ],
            "text/plain": [
              "   R&D Spend  Administration  Marketing Spend       State     Profit\n",
              "0  165349.20       136897.80        471784.10    New York  192261.83\n",
              "1  162597.70       151377.59        443898.53  California  191792.06\n",
              "2  153441.51       101145.55        407934.54     Florida  191050.39\n",
              "3  144372.41       118671.85        383199.62    New York  182901.99\n",
              "4  142107.34        91391.77        366168.42     Florida  166187.94"
            ]
          },
          "metadata": {
            "tags": []
          },
          "execution_count": 3
        }
      ]
    },
    {
      "cell_type": "code",
      "metadata": {
        "id": "a50KoJcWPZzh",
        "colab_type": "code",
        "colab": {}
      },
      "source": [
        "X = np.array(data[['R&D Spend','Administration','Marketing Spend']])"
      ],
      "execution_count": 0,
      "outputs": []
    },
    {
      "cell_type": "code",
      "metadata": {
        "id": "jmfH_ob2PZzp",
        "colab_type": "code",
        "colab": {}
      },
      "source": [
        "y = np.array(data['Profit'])\n",
        "y = y.reshape(len(y),1)"
      ],
      "execution_count": 0,
      "outputs": []
    },
    {
      "cell_type": "code",
      "metadata": {
        "id": "nCKKuUKPPZzw",
        "colab_type": "code",
        "colab": {}
      },
      "source": [
        "X_train,X_test,y_train,y_test = train_test_split(X,y,test_size=0.2)"
      ],
      "execution_count": 0,
      "outputs": []
    },
    {
      "cell_type": "code",
      "metadata": {
        "id": "J--rrM4rPZz4",
        "colab_type": "code",
        "outputId": "b00036a0-caf5-4d84-dce8-172550dccabe",
        "colab": {}
      },
      "source": [
        "y_train.shape"
      ],
      "execution_count": 0,
      "outputs": [
        {
          "output_type": "execute_result",
          "data": {
            "text/plain": [
              "(40, 1)"
            ]
          },
          "metadata": {
            "tags": []
          },
          "execution_count": 20
        }
      ]
    },
    {
      "cell_type": "code",
      "metadata": {
        "id": "-V1RzWOvPZz9",
        "colab_type": "code",
        "outputId": "b9497bee-7a95-4b90-ba4b-c7700ebf1d89",
        "colab": {}
      },
      "source": [
        "X_train[0:5]"
      ],
      "execution_count": 0,
      "outputs": [
        {
          "output_type": "execute_result",
          "data": {
            "text/plain": [
              "array([[ 61136.38, 152701.92,  88218.23],\n",
              "       [ 44069.95,  51283.14, 197029.42],\n",
              "       [119943.24, 156547.42, 256512.92],\n",
              "       [ 23640.93,  96189.63, 148001.11],\n",
              "       [ 67532.53, 105751.03, 304768.73]])"
            ]
          },
          "metadata": {
            "tags": []
          },
          "execution_count": 21
        }
      ]
    },
    {
      "cell_type": "code",
      "metadata": {
        "id": "JmMOxMQHPZ0C",
        "colab_type": "code",
        "outputId": "e3ca524d-945a-4e54-92e3-948d9c488ca0",
        "colab": {}
      },
      "source": [
        "y_train[0:5]"
      ],
      "execution_count": 0,
      "outputs": [
        {
          "output_type": "execute_result",
          "data": {
            "text/plain": [
              "array([[ 97483.56],\n",
              "       [ 89949.14],\n",
              "       [132602.65],\n",
              "       [ 71498.49],\n",
              "       [108733.99]])"
            ]
          },
          "metadata": {
            "tags": []
          },
          "execution_count": 22
        }
      ]
    },
    {
      "cell_type": "code",
      "metadata": {
        "id": "EMYJBMXWPZ0J",
        "colab_type": "code",
        "colab": {}
      },
      "source": [
        "class GradientDecent:\n",
        "    def __init__(self):\n",
        "        self.weights = None\n",
        "        self.weights = None\n",
        "        self.cost_hist = None\n",
        "    \n",
        "    def train(self,X,y,epochs=100, alpha=0.01):\n",
        "        if len(X) != len(y):\n",
        "            raise ValueError()\n",
        "        m = len(y)\n",
        "        X = np.c_[np.ones((m,1)),X]\n",
        "        n = X.shape[1]\n",
        "        self.weights = np.random.rand(n,1)\n",
        "        self.cost_hist = np.zeros(epochs)\n",
        "        self.weights_hist = np.zeros((epochs,n))\n",
        "        for epoch in range(epochs):\n",
        "            pred = np.dot(X,self.weights)\n",
        "            self.weights = self.weights - (1/m)*alpha*X.T.dot((pred-y))\n",
        "            self.weights_hist[epoch,:] = self.weights.T\n",
        "            self.cost_hist[epoch] = self.cal_cost(X,y)\n",
        "    \n",
        "    def cal_cost(self,X,y):\n",
        "        m = len(y)\n",
        "        pred = np.dot(X,self.weights)\n",
        "        cost = (1/2*m)*np.sum(np.square(pred-y))\n",
        "        return cost\n",
        "    \n",
        "    def predict(self,X):\n",
        "        X = np.c_[np.ones((len(X),1)),X]\n",
        "        pred = np.dot(X,self.weights)\n",
        "        return pred"
      ],
      "execution_count": 0,
      "outputs": []
    },
    {
      "cell_type": "code",
      "metadata": {
        "id": "3-pbu33fPZ0O",
        "colab_type": "code",
        "outputId": "065bb604-85cc-4c3c-cba5-aec974819c39",
        "colab": {}
      },
      "source": [
        "plt.scatter(X[:,1],y)\n",
        "plt.show()\n",
        "plt.scatter(X[:,0],y)\n",
        "plt.show()"
      ],
      "execution_count": 0,
      "outputs": [
        {
          "output_type": "display_data",
          "data": {
            "image/png": "[encoded data removed]",
            "text/plain": [
              "<Figure size 432x288 with 1 Axes>"
            ]
          },
          "metadata": {
            "tags": [],
            "needs_background": "light"
          }
        },
        {
          "output_type": "display_data",
          "data": {
            "image/png": "[encoded data removed]",
            "text/plain": [
              "<Figure size 432x288 with 1 Axes>"
            ]
          },
          "metadata": {
            "tags": [],
            "needs_background": "light"
          }
        }
      ]
    },
    {
      "cell_type": "code",
      "metadata": {
        "id": "_qNi8WB7PZ0W",
        "colab_type": "code",
        "colab": {}
      },
      "source": [
        "grad = GradientDecent()"
      ],
      "execution_count": 0,
      "outputs": []
    },
    {
      "cell_type": "code",
      "metadata": {
        "scrolled": true,
        "id": "4fWySLa5PZ0b",
        "colab_type": "code",
        "outputId": "cfe12220-70af-45f2-8063-5a98fa0fbf78",
        "colab": {}
      },
      "source": [
        "grad.train(X_train,y_train,alpha=0.55)\n",
        "grad.weights"
      ],
      "execution_count": 0,
      "outputs": [
        {
          "output_type": "stream",
          "text": [
            "C:\\Users\\BIPRAJIT MAL\\Anaconda3\\lib\\site-packages\\numpy\\core\\fromnumeric.py:86: RuntimeWarning: overflow encountered in reduce\n",
            "  return ufunc.reduce(obj, axis, dtype, out, **passkwargs)\n",
            "C:\\Users\\BIPRAJIT MAL\\Anaconda3\\lib\\site-packages\\ipykernel_launcher.py:25: RuntimeWarning: overflow encountered in square\n"
          ],
          "name": "stderr"
        },
        {
          "output_type": "execute_result",
          "data": {
            "text/plain": [
              "array([[nan],\n",
              "       [nan],\n",
              "       [nan],\n",
              "       [nan]])"
            ]
          },
          "metadata": {
            "tags": []
          },
          "execution_count": 26
        }
      ]
    },
    {
      "cell_type": "code",
      "metadata": {
        "id": "LY7Yb0L6PZ0j",
        "colab_type": "code",
        "outputId": "766106b0-5465-43b7-d39b-08cd49014ac9",
        "colab": {}
      },
      "source": [
        "err = grad.cost_hist\n",
        "plt.plot(err)\n",
        "plt.ylabel('Cost')\n",
        "plt.xlabel('Iteration')\n",
        "plt.show()"
      ],
      "execution_count": 0,
      "outputs": [
        {
          "output_type": "display_data",
          "data": {
            "image/png": "[encoded data removed]",
            "text/plain": [
              "<Figure size 432x288 with 1 Axes>"
            ]
          },
          "metadata": {
            "tags": [],
            "needs_background": "light"
          }
        }
      ]
    },
    {
      "cell_type": "code",
      "metadata": {
        "id": "kBDaKfpgPZ0o",
        "colab_type": "code",
        "colab": {}
      },
      "source": [
        ""
      ],
      "execution_count": 0,
      "outputs": []
    }
  ]
}